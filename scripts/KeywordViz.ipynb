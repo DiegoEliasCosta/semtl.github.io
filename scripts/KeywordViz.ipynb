{
 "cells": [
  {
   "cell_type": "markdown",
   "metadata": {
    "pycharm": {
     "name": "#%% md\n"
    }
   },
   "source": [
    "# Keyword Visualisation\n",
    "\n",
    "### Usage:\n",
    "* Save the registration sheet as a .tsv file  \n",
    "Store the file next to the juptyer file, name it ```reg_form.tsv```\n",
    "* Run this Jupyter Notebook  \n",
    "Launch command is ```jupyter notebook```\n",
    "\n",
    "### Dependencies\n",
    "\n",
    " * WordCloud: ```pip3 install --user wordcloud```\n",
    " * Pypi: ```pip3 install --user pypi```"
   ]
  },
  {
   "cell_type": "markdown",
   "metadata": {
    "pycharm": {
     "name": "#%% md\n"
    }
   },
   "source": [
    "\n",
    "\n",
    "### Load the TSV file\n"
   ]
  },
  {
   "cell_type": "code",
   "execution_count": 1,
   "metadata": {
    "pycharm": {
     "is_executing": true,
     "name": "#%%\n"
    }
   },
   "outputs": [
    {
     "name": "stdout",
     "output_type": "stream",
     "text": [
      "Bentley Oakes\n",
      "['model transformation', 'cyber-physical system verification', 'digital twins', 'model-driven engineering']\n",
      "Mohammad Hamdaqa\n",
      "['model driven engineering', 'domain-specific languages', 'aiops', 'distributed and decentralized applications (cloud native applications', 'smart contracts)']\n",
      "Armstrong  Foundjem \n",
      "['']\n",
      "Hamou Ait Abderrahim\n",
      "['software architecture', 'internet of things', 'model driven engineering']\n",
      "Wahab Hamou-Lhadj\n",
      "['aiops', 'software observability', 'tracing and logging', 'software dev and operations', 'model-driven engineering']\n",
      "Arghavan Sanei\n",
      "['collaborative software development', 'qualitative methods', 'user experience design', 'argument mining']\n",
      "Ahmad Abdellatif\n",
      "['software chatbots', 'se for ai', 'and software quality']\n",
      "Eugene Syriani\n",
      "['']\n",
      "Houari Sahraoui\n",
      "['sbse', 'ai for se', 'mde']\n",
      "Fabio Petrillo\n",
      "['cool se', 'se for video games', 'no-chatgpt (and similars) se']\n",
      "Mouna Dhaouadi\n",
      "['rationale knowledge extraction and management']\n",
      "Ali Ouni\n",
      "['software maintenance and evolution', 'sbse', 'empirical software engineering', 'ai for se']\n",
      "Corinne  Pulgar \n",
      "['domain-specific languages', 'self-adaptable languages', 'devops']\n",
      "Roozbeh Aghili\n",
      "['aiops', 'software monitoring']\n",
      "Samuel Abedu\n",
      "['se for ai', 'llms', 'mining software repositories']\n",
      "Bhagya Chembakottu\n",
      "['ml for se']\n",
      "Ghizlane El Boussaidi\n",
      "['mde', 'software modernization', 'software architecture', 'iot', 'safety-critical systems']\n",
      "Ikram Darif\n",
      "['requirements engineering', 'requirements specification', 'mde', 'safety critical systems']\n",
      "Amine Benabdallah\n",
      "['mde', 'human aspects', 'software architecture', 'iot']\n",
      "Maximilian Schiedemeier\n",
      "['planned model reuse', 'model composition and transformation', 'dsmls', 'restful services and apis']\n",
      "MohammadAmin Zaheri\n",
      "['low-code development platforms', 'model-driven engineering', 'consistency management']\n",
      "Oussama Ben Sghaier\n",
      "['ai for se']\n",
      "Sara Yabesi\n",
      "['software maintenance', 'human computer interaction', '']\n",
      "Mahta Amini\n",
      "['human factors', 'software engineering', 'creativity', 'eye tracking', 'brain imaging', 'and problem-solving strategies.']\n",
      "Layan Etaiwi\n",
      "['software evolution', 'recommendation systems', 'consensus algorithms']\n",
      "meriem ben chaaben\n",
      "['ai for se', 'mde']\n",
      "Antoine Delanou\n",
      "['event driven architecture migration']\n",
      "Zohreh Sharafi\n",
      "['human factors in software engineering', 'biometrics in se', 'empirical se']\n",
      "Diego Elias Costa\n",
      "['dependency management', 'se for ai', 'performance engineering']\n",
      "Henri Aïdasso\n",
      "['ai for se', 'intelligent devops', 'anomaly detection', 'failure diagnosis']\n",
      "Abid Ullah  Khan \n",
      "['hci', 'ar/vr']\n",
      "Imen Trabelsi\n",
      "['microservices', 'migration', 'software architecture']\n",
      "Narjes Bessghaier\n",
      "['infrastructure-as-code', 'configuration', 'sbse']\n",
      "Lili Wei\n",
      "['program analysis and testing', 'mobile software engineering']\n",
      "Mahdi Turki\n",
      "['software maintenance']\n",
      "Belal Nwiran\n",
      "['edge ai', 'action recognition']\n",
      "Khezemi Nour\n",
      "['iot', 'quality', 'architecture', 'code quality']\n",
      "Jean-Baptiste MINANI\n",
      "['iot systems testing', 'optimization algorithms']\n",
      "Alireza Adli\n",
      "['framework development', 'carbon emissions', 'transportation', 'building', 'energy system', 'software architecture']\n"
     ]
    }
   ],
   "source": [
    "def standardise_kw(k):\n",
    "\tk = k.replace(\"4\", \" for \")\n",
    "\tk = k.replace(\"domain specific\", \"domain-specific\")\n",
    "\tk = k.replace(\"langauge\", \"language\")\n",
    "\treturn k\n",
    "\n",
    "\n",
    "member_keywords = {}\n",
    "member_affil = {}\n",
    "with open(\"reg_form.tsv\") as f:\n",
    "\n",
    "\tfor line in f.readlines()[2:]:\n",
    "\n",
    "\t\ts = line.split(\"\\t\")\n",
    "\t\tname = s[0] + \" \" + s[1]\n",
    "\t\tprint(name)\n",
    "\n",
    "\t\tif not name.strip():\n",
    "\t\t\tcontinue\n",
    "\n",
    "\t\taffil = s[2]\n",
    "\t\tmember_affil[name] = affil\n",
    "\n",
    "\t\tkeywords = []\n",
    "\t\tfor keyword in s[6].split(\",\"):\n",
    "\t\t\tkeyword = keyword.strip().lower()\n",
    "\t\t\tif not \";\" in keyword:\n",
    "\t\t\t\tkeywords.append(standardise_kw(keyword))\n",
    "\t\t\telse:\n",
    "\t\t\t\tkws = keyword.split(\";\")\n",
    "\t\t\t\tfor kw in kws:\n",
    "\t\t\t\t\tkeywords.append(standardise_kw(kw))\n",
    "\n",
    "\t\tprint(keywords)\n",
    "\n",
    "\t\tmember_keywords[name] = keywords"
   ]
  },
  {
   "cell_type": "markdown",
   "metadata": {
    "pycharm": {
     "name": "#%% md\n"
    }
   },
   "source": [
    "### Do wordcloud"
   ]
  },
  {
   "cell_type": "code",
   "execution_count": 2,
   "metadata": {
    "pycharm": {
     "name": "#%%\n"
    }
   },
   "outputs": [
    {
     "name": "stdout",
     "output_type": "stream",
     "text": [
      "['model transformation', 'cyber-physical system verification', 'digital twins', 'model-driven engineering', 'model driven engineering', 'domain-specific languages', 'aiops', 'distributed and decentralized applications (cloud native applications', 'smart contracts)', '', 'software architecture', 'internet of things', 'model driven engineering', 'aiops', 'software observability', 'tracing and logging', 'software dev and operations', 'model-driven engineering', 'collaborative software development', 'qualitative methods', 'user experience design', 'argument mining', 'software chatbots', 'se for ai', 'and software quality', '', 'sbse', 'ai for se', 'mde', 'cool se', 'se for video games', 'no-chatgpt (and similars) se', 'rationale knowledge extraction and management', 'software maintenance and evolution', 'sbse', 'empirical software engineering', 'ai for se', 'domain-specific languages', 'self-adaptable languages', 'devops', 'aiops', 'software monitoring', 'se for ai', 'llms', 'mining software repositories', 'ml for se', 'mde', 'software modernization', 'software architecture', 'iot', 'safety-critical systems', 'requirements engineering', 'requirements specification', 'mde', 'safety critical systems', 'mde', 'human aspects', 'software architecture', 'iot', 'planned model reuse', 'model composition and transformation', 'dsmls', 'restful services and apis', 'low-code development platforms', 'model-driven engineering', 'consistency management', 'ai for se', 'software maintenance', 'human computer interaction', '', 'human factors', 'software engineering', 'creativity', 'eye tracking', 'brain imaging', 'and problem-solving strategies.', 'software evolution', 'recommendation systems', 'consensus algorithms', 'ai for se', 'mde', 'event driven architecture migration', 'human factors in software engineering', 'biometrics in se', 'empirical se', 'dependency management', 'se for ai', 'performance engineering', 'ai for se', 'intelligent devops', 'anomaly detection', 'failure diagnosis', 'hci', 'ar/vr', 'microservices', 'migration', 'software architecture', 'infrastructure-as-code', 'configuration', 'sbse', 'program analysis and testing', 'mobile software engineering', 'software maintenance', 'edge ai', 'action recognition', 'iot', 'quality', 'architecture', 'code quality', 'iot systems testing', 'optimization algorithms', 'framework development', 'carbon emissions', 'transportation', 'building', 'energy system', 'software architecture']\n",
      "{'model transformation': 1, 'cyber-physical system verification': 1, 'digital twins': 1, 'distributed and decentralized applications (cloud native applications': 1, 'smart contracts)': 1, 'internet of things': 1, 'software observability': 1, 'tracing and logging': 1, 'software dev and operations': 1, 'collaborative software development': 1, 'qualitative methods': 1, 'user experience design': 1, 'argument mining': 1, 'software chatbots': 1, 'and software quality': 1, 'cool se': 1, 'se for video games': 1, 'no-chatgpt (and similars) se': 1, 'rationale knowledge extraction and management': 1, 'software maintenance and evolution': 1, 'empirical software engineering': 1, 'self-adaptable languages': 1, 'devops': 1, 'software monitoring': 1, 'llms': 1, 'mining software repositories': 1, 'ml for se': 1, 'software modernization': 1, 'safety-critical systems': 1, 'requirements engineering': 1, 'requirements specification': 1, 'safety critical systems': 1, 'human aspects': 1, 'planned model reuse': 1, 'model composition and transformation': 1, 'dsmls': 1, 'restful services and apis': 1, 'low-code development platforms': 1, 'consistency management': 1, 'human computer interaction': 1, 'human factors': 1, 'software engineering': 1, 'creativity': 1, 'eye tracking': 1, 'brain imaging': 1, 'and problem-solving strategies.': 1, 'software evolution': 1, 'recommendation systems': 1, 'consensus algorithms': 1, 'event driven architecture migration': 1, 'human factors in software engineering': 1, 'biometrics in se': 1, 'empirical se': 1, 'dependency management': 1, 'performance engineering': 1, 'intelligent devops': 1, 'anomaly detection': 1, 'failure diagnosis': 1, 'hci': 1, 'ar/vr': 1, 'microservices': 1, 'migration': 1, 'infrastructure-as-code': 1, 'configuration': 1, 'program analysis and testing': 1, 'mobile software engineering': 1, 'edge ai': 1, 'action recognition': 1, 'quality': 1, 'architecture': 1, 'code quality': 1, 'iot systems testing': 1, 'optimization algorithms': 1, 'framework development': 1, 'carbon emissions': 1, 'transportation': 1, 'building': 1, 'energy system': 1, 'model driven engineering': 2, 'domain-specific languages': 2, 'software maintenance': 2, 'model-driven engineering': 3, 'aiops': 3, '': 3, 'se for ai': 3, 'sbse': 3, 'iot': 3, 'software architecture': 5, 'ai for se': 5, 'mde': 5}\n"
     ]
    },
    {
     "data": {
      "text/plain": [
       "<wordcloud.wordcloud.WordCloud at 0x7fdb0c5b4450>"
      ]
     },
     "execution_count": 2,
     "metadata": {},
     "output_type": "execute_result"
    }
   ],
   "source": [
    "from wordcloud import WordCloud\n",
    "\n",
    "collapsed_keywords = []\n",
    "for ks in member_keywords.values():\n",
    "\tfor k in ks:\n",
    "\t\tcollapsed_keywords.append(k)\n",
    "\n",
    "print(collapsed_keywords)\n",
    "\n",
    "freqs = {}\n",
    "for ck in collapsed_keywords:\n",
    "\tfreqs[ck] = collapsed_keywords.count(ck)\n",
    "freqs = dict(sorted(freqs.items(), key=lambda item: item[1]))\n",
    "print(freqs)\n",
    "\n",
    "# Generate a word cloud image\n",
    "wordcloud = WordCloud(background_color ='white', width=2048, height=1600, relative_scaling=0.8)\\\n",
    "\n",
    "out = wordcloud.generate_from_frequencies(freqs)\n",
    "out.to_file(\"phrases.png\")\n",
    "\n",
    "out = wordcloud.generate(\" \".join(collapsed_keywords))\n",
    "out.to_file(\"words.png\")\n",
    "\n",
    "\n",
    "# Display the generated image:\n",
    "# the matplotlib way:\n",
    "# import matplotlib.pyplot as plt\n",
    "# plt.imshow(out, interpolation='bilinear')\n",
    "# plt.axis(\"off\")\n",
    "# #plt.show()\n",
    "# plt.savefig('phrases.png')"
   ]
  },
  {
   "cell_type": "markdown",
   "metadata": {
    "pycharm": {
     "name": "#%% md\n"
    }
   },
   "source": [
    "Generate connection graph"
   ]
  },
  {
   "cell_type": "code",
   "execution_count": 3,
   "metadata": {
    "pycharm": {
     "name": "#%%\n"
    }
   },
   "outputs": [
    {
     "ename": "ModuleNotFoundError",
     "evalue": "No module named 'pydot'",
     "output_type": "error",
     "traceback": [
      "\u001B[0;31m---------------------------------------------------------------------------\u001B[0m",
      "\u001B[0;31mModuleNotFoundError\u001B[0m                       Traceback (most recent call last)",
      "Cell \u001B[0;32mIn [3], line 2\u001B[0m\n\u001B[1;32m      1\u001B[0m \u001B[38;5;28;01mfrom\u001B[39;00m \u001B[38;5;21;01mIPython\u001B[39;00m\u001B[38;5;21;01m.\u001B[39;00m\u001B[38;5;21;01mdisplay\u001B[39;00m \u001B[38;5;28;01mimport\u001B[39;00m Image, display\n\u001B[0;32m----> 2\u001B[0m \u001B[38;5;28;01mimport\u001B[39;00m \u001B[38;5;21;01mpydot\u001B[39;00m\n\u001B[1;32m      4\u001B[0m affil_colours \u001B[38;5;241m=\u001B[39m {\n\u001B[1;32m      5\u001B[0m \t\u001B[38;5;124m'\u001B[39m\u001B[38;5;124mUdeM\u001B[39m\u001B[38;5;124m'\u001B[39m: \u001B[38;5;124m\"\u001B[39m\u001B[38;5;124m#006BB6\u001B[39m\u001B[38;5;124m\"\u001B[39m,\n\u001B[1;32m      6\u001B[0m \t\u001B[38;5;124m'\u001B[39m\u001B[38;5;124mÉTS\u001B[39m\u001B[38;5;124m'\u001B[39m: \u001B[38;5;124m\"\u001B[39m\u001B[38;5;124m#EF3E45\u001B[39m\u001B[38;5;124m\"\u001B[39m,\n\u001B[0;32m   (...)\u001B[0m\n\u001B[1;32m     10\u001B[0m \t\u001B[38;5;124m'\u001B[39m\u001B[38;5;124mConcordia\u001B[39m\u001B[38;5;124m'\u001B[39m: \u001B[38;5;124m\"\u001B[39m\u001B[38;5;124m#912338\u001B[39m\u001B[38;5;124m\"\u001B[39m,\n\u001B[1;32m     11\u001B[0m }\n\u001B[1;32m     13\u001B[0m graph \u001B[38;5;241m=\u001B[39m pydot\u001B[38;5;241m.\u001B[39mDot(name, graph_type\u001B[38;5;241m=\u001B[39m\u001B[38;5;124m'\u001B[39m\u001B[38;5;124mdigraph\u001B[39m\u001B[38;5;124m'\u001B[39m)\n",
      "\u001B[0;31mModuleNotFoundError\u001B[0m: No module named 'pydot'"
     ]
    }
   ],
   "source": [
    "from IPython.display import Image, display\n",
    "import pydot\n",
    "\n",
    "affil_colours = {\n",
    "\t'UdeM': \"#006BB6\",\n",
    "\t'ÉTS': \"#EF3E45\",\n",
    "\t'Poly': \"#6AA84F\",\n",
    "\t'UQAM': \"#46BDC6\",\n",
    "\t'McGill': \"#F4B400\",\n",
    "\t'Concordia': \"#912338\",\n",
    "}\n",
    "\n",
    "graph = pydot.Dot(name, graph_type='digraph')\n",
    "\n",
    "mermaid_output = \"graph TD\\n\"\n",
    "\n",
    "mer_ids = {}\n",
    "for member in reversed(member_keywords):\n",
    "\tcol = affil_colours[member_affil[member]]\n",
    "\n",
    "\ttext_color = 'black'\n",
    "\tmer_color = \"#000000\"\n",
    "\tif member_affil[member] in [\"UdeM\", \"Concordia\"]:\n",
    "\t\ttext_color = 'white'\n",
    "\t\tmer_color = \"#ffffff\"\n",
    "\tn = pydot.Node(member, style=\"filled\", color='black', fillcolor=col, fontcolor=text_color)\n",
    "\t#graph.add_node(n)\n",
    "\n",
    "\tmember_id = member[:4].lower().strip()\n",
    "\tmer_ids[member] = member_id\n",
    "\n",
    "\tmermaid_output += \"    \" + member_id + \"[\" + member + \"]\\n\"\n",
    "\tmermaid_output += \"    style \" + member_id + \" fill:\" + col + \",color:\" + mer_color + \"\\n\\n\"\n",
    "\n",
    "mk_list = list(member_keywords.keys())\n",
    "\n",
    "mk_ids = {}\n",
    "for i, mk in enumerate(set(collapsed_keywords)):\n",
    "\tif not mk:\n",
    "\t\tcontinue\n",
    "\tif freqs[mk] <= 1:\n",
    "\t\tcontinue\n",
    "\n",
    "\tmermaid_output += \"    id\" + str(i) + \"(\\\"\" + mk + \"\\\")\\n\"\n",
    "\tmermaid_output += \"    style \" + \"id\" + str(i) + \" fill:\" + \"#ffffff\" + \",color:\" + \"#000000\" + \"\\n\\n\"\n",
    "\tmk_ids[mk] = \"id\" + str(i)\n",
    "\n",
    "mermaid_output += \"\\n\"\n",
    "\n",
    "for source_member in member_keywords:\n",
    "\n",
    "\tmer_src_member = mer_ids[source_member]\n",
    "\n",
    "\tfor kw in member_keywords[source_member]:\n",
    "\t\tif not kw:\n",
    "\t\t\tcontinue\n",
    "\t\tif freqs[kw] <= 1:\n",
    "\t\t\tcontinue\n",
    "\t\tmermaid_output += \"    \" + mk_ids[kw] + \" <--- \" + mer_ids[source_member] + \"\\n\"\n",
    "\n",
    "\n",
    "\tfor target_member in member_keywords:\n",
    "\n",
    "\t\tif mk_list.index(target_member) <= mk_list.index(source_member):\n",
    "\t\t\tcontinue\n",
    "\n",
    "\t\t# print(\"Source: \" + source_member)\n",
    "\t\t# print(\"Target: \" + target_member)\n",
    "\n",
    "\t\t#print(member_keywords[source_member])\n",
    "\t\tsum = 0\n",
    "\t\tshared = []\n",
    "\t\tfor smk in member_keywords[source_member]:\n",
    "\t\t\tif not smk:\n",
    "\t\t\t\tcontinue\n",
    "\t\t\tif smk in member_keywords[target_member]:\n",
    "\t\t\t\tsum += 1\n",
    "\t\t\t\tshared.append(smk)\n",
    "\t\t\t\t#print(\"Shared: \" + smk)\n",
    "\n",
    "\t\t#if sum >0:\n",
    "\t\t\t#shared_keywords = \" \".join(shared)\n",
    "\t\t\t#print(shared_keywords)\n",
    "\t\t\t#print(shared)\n",
    "\n",
    "\n",
    "\n",
    "\t\t# graph.add_edge(pydot.Edge(source_member, target_member, color='black', label=\", \".join(shared), arrowhead=\"none\", penwidth=sum))\n",
    "\n",
    "filename = \"connections\"\n",
    "# graph.write(filename + \".dot\", prog='dot')\n",
    "#\n",
    "# (graph,) = pydot.graph_from_dot_file(filename + \".dot\")\n",
    "# graph.write_png(filename + '.png')\n",
    "\n",
    "#plt = Image(filename + '.png')\n",
    "#display(plt)\n",
    "\n",
    "with open(\"mermaid_output.txt\", 'w') as f:\n",
    "\tf.write(mermaid_output)"
   ]
  },
  {
   "cell_type": "code",
   "execution_count": null,
   "metadata": {
    "pycharm": {
     "name": "#%%\n"
    }
   },
   "outputs": [],
   "source": [
    "The wordcloud is exported to a [file](words.png):\n",
    "![words](words.png)"
   ]
  },
  {
   "cell_type": "code",
   "execution_count": null,
   "metadata": {
    "pycharm": {
     "name": "#%%\n"
    }
   },
   "outputs": [],
   "source": [
    "The wordcloud is exported to a [file](words.png):\n",
    "![words](words.png)"
   ]
  },
  {
   "cell_type": "code",
   "execution_count": null,
   "metadata": {
    "pycharm": {
     "name": "#%%\n"
    }
   },
   "outputs": [],
   "source": []
  }
 ],
 "metadata": {
  "kernelspec": {
   "display_name": "Python 3 (ipykernel)",
   "language": "python",
   "name": "python3"
  },
  "language_info": {
   "codemirror_mode": {
    "name": "ipython",
    "version": 3
   },
   "file_extension": ".py",
   "mimetype": "text/x-python",
   "name": "python",
   "nbconvert_exporter": "python",
   "pygments_lexer": "ipython3",
   "version": "3.11.2"
  }
 },
 "nbformat": 4,
 "nbformat_minor": 1
}