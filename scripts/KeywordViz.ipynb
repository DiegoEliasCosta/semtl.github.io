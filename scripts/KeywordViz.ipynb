{
 "cells": [
  {
   "cell_type": "markdown",
   "metadata": {
    "pycharm": {
     "name": "#%% md\n"
    }
   },
   "source": [
    "# Keyword Visualisation\n",
    "\n",
    "### Usage:\n",
    "* Save the registration sheet as a .tsv file\n",
    "* Run this Jupyter Notebook\n",
    "\n",
    "### Dependencies\n",
    "\n",
    " * WordCloud: ```pip3 install --user wordcloud```"
   ]
  },
  {
   "cell_type": "markdown",
   "metadata": {
    "pycharm": {
     "name": "#%% md\n"
    }
   },
   "source": [
    "\n",
    "\n",
    "### Load the TSV file\n"
   ]
  },
  {
   "cell_type": "code",
   "execution_count": 1,
   "metadata": {
    "pycharm": {
     "name": "#%%\n"
    }
   },
   "outputs": [
    {
     "name": "stdout",
     "output_type": "stream",
     "text": [
      "Maximilian Schiedermeier\n",
      "['planned model reuse', 'model composition and transformation', 'dsmls', 'restful services']\n",
      "Mathieu Nassif\n",
      "['software maintenance', ' software documentation', ' knowledge extraction and management']\n",
      "Bentley Oakes\n",
      "['model transformation', 'cyber-physical system verification', 'machine learning', 'model-driven engineering']\n",
      "Michalis Famelis\n",
      "['mde', 'variability', 'uncertainty', 'rationale']\n",
      "Mouna  Dhaouadi\n",
      "['rationale knowledge extraction and management']\n",
      "Armstrong Foundjem \n",
      "['certifiability of ml algorithms', 'safety on mission-critical systems', 'mlops', 'software ecosystem sustainability']\n",
      "Martin Robillard\n",
      "['human-centric aspects of software engineering', 'recommendation systems for software engineering', 'software traceability', 'documentation generation', 'software architecture and design', 'privacy engineering']\n",
      "Houari  Sahraoui\n",
      "['sbse', 'ai for se', 'mde']\n",
      "Breandan Considine\n",
      "['developer tools', 'software language engineering', 'domain-specific languages']\n",
      "Hafedh Mili\n",
      "['re-engineering', 'mde', 'bpm']\n",
      "Eugene Syriani\n",
      "['']\n",
      "Bhagya Chembakottu\n",
      "['ml for se', 'sports application analysis']\n",
      "Oussama Ben Sghaier\n",
      "['ai for se']\n",
      "Deeksha Arya\n",
      "['software documentation', 'knowledge extraction', 'user behaviour/hci']\n",
      "Diego Elias Costa\n",
      "['software maintenance', 'dependency management', 'se for ai']\n",
      "Lili Wei\n",
      "['program analysis', 'testing', 'mining code repositories', 'mobile software engineering']\n",
      "Avinash Bhat\n",
      "['software documentation', 'se for ai']\n",
      "Corinne Pulgar\n",
      "['domain-specific languages', 'self-adaptable languages', 'devops']\n",
      "Linh Nguyen\n",
      "['software privacy', 'hci', 'se']\n",
      "Daniel Varro\n",
      "['']\n",
      "Ghizlane El Boussaidi\n",
      "['mde', 'software modernization', 'software architecture', 'iot', 'safety-critical systems']\n",
      "Nicolas Almerge\n",
      "['']\n",
      "Cristiano Politowski\n",
      "['software architecture', 'software testing', 'video game development']\n",
      "Naouel Moha\n",
      "['software quality', 'maintenance and evolution', 'software design', 'services and mobile apps', 'iot']\n",
      "Christopher Fuhrman\n",
      "['software analysis', 'software design', 'reliability', 'testing', 'development', 'static analysis']\n",
      "Jin Guo\n",
      "['documentation', 'usability', 'traceability', 'human-centered design']\n",
      "Imen Benzarti\n",
      "['human-centric aspects of software engineering', 'requirements engineering', 'mde']\n",
      "Ikram Darif\n",
      "['requirements specification', 'certification', 'safety critical systems']\n",
      "Ahmad Abdellatif\n",
      "['software chatbots', 'se for ai', 'and software quality']\n",
      "Samuel Abedu\n",
      "['se for ai', 'msr']\n",
      "Arghavan Moradi\n",
      "['large language models to generate codes', 'se for ai', 'software testing']\n"
     ]
    }
   ],
   "source": [
    "def standardise_kw(k):\n",
    "\tk = k.replace(\"4\", \" for \")\n",
    "\tk = k.replace(\"domain specific\", \"domain-specific\")\n",
    "\tk = k.replace(\"langauge\", \"language\")\n",
    "\treturn k\n",
    "\n",
    "\n",
    "member_keywords = {}\n",
    "member_affil = {}\n",
    "with open(\"reg_form.tsv\") as f:\n",
    "\n",
    "\tfor line in f.readlines()[2:]:\n",
    "\n",
    "\t\ts = line.split(\"\\t\")\n",
    "\t\tname = s[0] + \" \" + s[1]\n",
    "\t\tprint(name)\n",
    "\n",
    "\t\tif not name.strip():\n",
    "\t\t\tcontinue\n",
    "\n",
    "\t\taffil = s[2]\n",
    "\t\tmember_affil[name] = affil\n",
    "\n",
    "\t\tkeywords = []\n",
    "\t\tfor keyword in s[6].split(\",\"):\n",
    "\t\t\tkeyword = keyword.strip().lower()\n",
    "\t\t\tif not \";\" in keyword:\n",
    "\t\t\t\tkeywords.append(standardise_kw(keyword))\n",
    "\t\t\telse:\n",
    "\t\t\t\tkws = keyword.split(\";\")\n",
    "\t\t\t\tfor kw in kws:\n",
    "\t\t\t\t\tkeywords.append(standardise_kw(kw))\n",
    "\n",
    "\t\tprint(keywords)\n",
    "\n",
    "\t\tmember_keywords[name] = keywords"
   ]
  },
  {
   "cell_type": "markdown",
   "metadata": {
    "pycharm": {
     "name": "#%% md\n"
    }
   },
   "source": [
    "### Do wordcloud"
   ]
  },
  {
   "cell_type": "code",
   "execution_count": 2,
   "metadata": {
    "pycharm": {
     "name": "#%%\n"
    }
   },
   "outputs": [
    {
     "name": "stdout",
     "output_type": "stream",
     "text": [
      "['planned model reuse', 'model composition and transformation', 'dsmls', 'restful services', 'software maintenance', ' software documentation', ' knowledge extraction and management', 'model transformation', 'cyber-physical system verification', 'machine learning', 'model-driven engineering', 'mde', 'variability', 'uncertainty', 'rationale', 'rationale knowledge extraction and management', 'certifiability of ml algorithms', 'safety on mission-critical systems', 'mlops', 'software ecosystem sustainability', 'human-centric aspects of software engineering', 'recommendation systems for software engineering', 'software traceability', 'documentation generation', 'software architecture and design', 'privacy engineering', 'sbse', 'ai for se', 'mde', 'developer tools', 'software language engineering', 'domain-specific languages', 're-engineering', 'mde', 'bpm', '', 'ml for se', 'sports application analysis', 'ai for se', 'software documentation', 'knowledge extraction', 'user behaviour/hci', 'software maintenance', 'dependency management', 'se for ai', 'program analysis', 'testing', 'mining code repositories', 'mobile software engineering', 'software documentation', 'se for ai', 'domain-specific languages', 'self-adaptable languages', 'devops', 'software privacy', 'hci', 'se', '', 'mde', 'software modernization', 'software architecture', 'iot', 'safety-critical systems', '', 'software architecture', 'software testing', 'video game development', 'software quality', 'maintenance and evolution', 'software design', 'services and mobile apps', 'iot', 'software analysis', 'software design', 'reliability', 'testing', 'development', 'static analysis', 'documentation', 'usability', 'traceability', 'human-centered design', 'human-centric aspects of software engineering', 'requirements engineering', 'mde', 'requirements specification', 'certification', 'safety critical systems', 'software chatbots', 'se for ai', 'and software quality', 'se for ai', 'msr', 'large language models to generate codes', 'se for ai', 'software testing']\n",
      "{'planned model reuse': 1, 'model composition and transformation': 1, 'dsmls': 1, 'restful services': 1, ' software documentation': 1, ' knowledge extraction and management': 1, 'model transformation': 1, 'cyber-physical system verification': 1, 'machine learning': 1, 'model-driven engineering': 1, 'variability': 1, 'uncertainty': 1, 'rationale': 1, 'rationale knowledge extraction and management': 1, 'certifiability of ml algorithms': 1, 'safety on mission-critical systems': 1, 'mlops': 1, 'software ecosystem sustainability': 1, 'recommendation systems for software engineering': 1, 'software traceability': 1, 'documentation generation': 1, 'software architecture and design': 1, 'privacy engineering': 1, 'sbse': 1, 'developer tools': 1, 'software language engineering': 1, 're-engineering': 1, 'bpm': 1, 'ml for se': 1, 'sports application analysis': 1, 'knowledge extraction': 1, 'user behaviour/hci': 1, 'dependency management': 1, 'program analysis': 1, 'mining code repositories': 1, 'mobile software engineering': 1, 'self-adaptable languages': 1, 'devops': 1, 'software privacy': 1, 'hci': 1, 'se': 1, 'software modernization': 1, 'safety-critical systems': 1, 'video game development': 1, 'software quality': 1, 'maintenance and evolution': 1, 'services and mobile apps': 1, 'software analysis': 1, 'reliability': 1, 'development': 1, 'static analysis': 1, 'documentation': 1, 'usability': 1, 'traceability': 1, 'human-centered design': 1, 'requirements engineering': 1, 'requirements specification': 1, 'certification': 1, 'safety critical systems': 1, 'software chatbots': 1, 'and software quality': 1, 'msr': 1, 'large language models to generate codes': 1, 'software maintenance': 2, 'human-centric aspects of software engineering': 2, 'ai for se': 2, 'domain-specific languages': 2, 'software documentation': 2, 'testing': 2, 'software architecture': 2, 'iot': 2, 'software testing': 2, 'software design': 2, '': 3, 'mde': 5, 'se for ai': 5}\n"
     ]
    },
    {
     "data": {
      "text/plain": [
       "<wordcloud.wordcloud.WordCloud at 0x10f2c6b80>"
      ]
     },
     "execution_count": 2,
     "metadata": {},
     "output_type": "execute_result"
    }
   ],
   "source": [
    "from wordcloud import WordCloud\n",
    "\n",
    "collapsed_keywords = []\n",
    "for ks in member_keywords.values():\n",
    "\tfor k in ks:\n",
    "\t\tcollapsed_keywords.append(k)\n",
    "\n",
    "print(collapsed_keywords)\n",
    "\n",
    "freqs = {}\n",
    "for ck in collapsed_keywords:\n",
    "\tfreqs[ck] = collapsed_keywords.count(ck)\n",
    "freqs = dict(sorted(freqs.items(), key=lambda item: item[1]))\n",
    "print(freqs)\n",
    "\n",
    "# Generate a word cloud image\n",
    "wordcloud = WordCloud(background_color ='white', width=2048, height=1600, relative_scaling=0.8)\\\n",
    "\n",
    "out = wordcloud.generate_from_frequencies(freqs)\n",
    "out.to_file(\"phrases.png\")\n",
    "\n",
    "out = wordcloud.generate(\" \".join(collapsed_keywords))\n",
    "out.to_file(\"words.png\")\n",
    "\n",
    "\n",
    "# Display the generated image:\n",
    "# the matplotlib way:\n",
    "# import matplotlib.pyplot as plt\n",
    "# plt.imshow(out, interpolation='bilinear')\n",
    "# plt.axis(\"off\")\n",
    "# #plt.show()\n",
    "# plt.savefig('phrases.png')"
   ]
  },
  {
   "cell_type": "markdown",
   "metadata": {
    "pycharm": {
     "name": "#%% md\n"
    }
   },
   "source": [
    "Generate connection graph"
   ]
  },
  {
   "cell_type": "code",
   "execution_count": null,
   "metadata": {
    "pycharm": {
     "name": "#%%\n"
    }
   },
   "outputs": [],
   "source": [
    "from IPython.display import Image, display\n",
    "import pydot\n",
    "\n",
    "affil_colours = {\n",
    "\t'UdeM': \"#006BB6\",\n",
    "\t'ÉTS': \"#EF3E45\",\n",
    "\t'Poly': \"#6AA84F\",\n",
    "\t'UQAM': \"#46BDC6\",\n",
    "\t'McGill': \"#F4B400\",\n",
    "\t'Concordia': \"#912338\",\n",
    "}\n",
    "\n",
    "graph = pydot.Dot(name, graph_type='digraph')\n",
    "\n",
    "mermaid_output = \"graph TD\\n\"\n",
    "\n",
    "mer_ids = {}\n",
    "for member in reversed(member_keywords):\n",
    "\tcol = affil_colours[member_affil[member]]\n",
    "\n",
    "\ttext_color = 'black'\n",
    "\tmer_color = \"#000000\"\n",
    "\tif member_affil[member] in [\"UdeM\", \"Concordia\"]:\n",
    "\t\ttext_color = 'white'\n",
    "\t\tmer_color = \"#ffffff\"\n",
    "\tn = pydot.Node(member, style=\"filled\", color='black', fillcolor=col, fontcolor=text_color)\n",
    "\t#graph.add_node(n)\n",
    "\n",
    "\tmember_id = member[:4].lower().strip()\n",
    "\tmer_ids[member] = member_id\n",
    "\n",
    "\tmermaid_output += \"    \" + member_id + \"[\" + member + \"]\\n\"\n",
    "\tmermaid_output += \"    style \" + member_id + \" fill:\" + col + \",color:\" + mer_color + \"\\n\\n\"\n",
    "\n",
    "mk_list = list(member_keywords.keys())\n",
    "\n",
    "mk_ids = {}\n",
    "for i, mk in enumerate(set(collapsed_keywords)):\n",
    "\tif not mk:\n",
    "\t\tcontinue\n",
    "\tif freqs[mk] <= 1:\n",
    "\t\tcontinue\n",
    "\n",
    "\tmermaid_output += \"    id\" + str(i) + \"(\\\"\" + mk + \"\\\")\\n\"\n",
    "\tmermaid_output += \"    style \" + \"id\" + str(i) + \" fill:\" + \"#ffffff\" + \",color:\" + \"#000000\" + \"\\n\\n\"\n",
    "\tmk_ids[mk] = \"id\" + str(i)\n",
    "\n",
    "mermaid_output += \"\\n\"\n",
    "\n",
    "for source_member in member_keywords:\n",
    "\n",
    "\tmer_src_member = mer_ids[source_member]\n",
    "\n",
    "\tfor kw in member_keywords[source_member]:\n",
    "\t\tif not kw:\n",
    "\t\t\tcontinue\n",
    "\t\tif freqs[kw] <= 1:\n",
    "\t\t\tcontinue\n",
    "\t\tmermaid_output += \"    \" + mk_ids[kw] + \" <--- \" + mer_ids[source_member] + \"\\n\"\n",
    "\n",
    "\n",
    "\tfor target_member in member_keywords:\n",
    "\n",
    "\t\tif mk_list.index(target_member) <= mk_list.index(source_member):\n",
    "\t\t\tcontinue\n",
    "\n",
    "\t\t# print(\"Source: \" + source_member)\n",
    "\t\t# print(\"Target: \" + target_member)\n",
    "\n",
    "\t\t#print(member_keywords[source_member])\n",
    "\t\tsum = 0\n",
    "\t\tshared = []\n",
    "\t\tfor smk in member_keywords[source_member]:\n",
    "\t\t\tif not smk:\n",
    "\t\t\t\tcontinue\n",
    "\t\t\tif smk in member_keywords[target_member]:\n",
    "\t\t\t\tsum += 1\n",
    "\t\t\t\tshared.append(smk)\n",
    "\t\t\t\t#print(\"Shared: \" + smk)\n",
    "\n",
    "\t\t#if sum >0:\n",
    "\t\t\t#shared_keywords = \" \".join(shared)\n",
    "\t\t\t#print(shared_keywords)\n",
    "\t\t\t#print(shared)\n",
    "\n",
    "\n",
    "\n",
    "\t\t# graph.add_edge(pydot.Edge(source_member, target_member, color='black', label=\", \".join(shared), arrowhead=\"none\", penwidth=sum))\n",
    "\n",
    "filename = \"connections\"\n",
    "# graph.write(filename + \".dot\", prog='dot')\n",
    "#\n",
    "# (graph,) = pydot.graph_from_dot_file(filename + \".dot\")\n",
    "# graph.write_png(filename + '.png')\n",
    "\n",
    "#plt = Image(filename + '.png')\n",
    "#display(plt)\n",
    "\n",
    "with open(\"mermaid_output.txt\", 'w') as f:\n",
    "\tf.write(mermaid_output)"
   ]
  },
  {
   "cell_type": "markdown",
   "metadata": {
    "pycharm": {
     "name": "#%%\n"
    }
   },
   "source": [
    "The wordcloud is exported to a [file](words.png):\n",
    "![words](words.png)"
   ]
  },
  {
   "cell_type": "code",
   "execution_count": null,
   "metadata": {},
   "outputs": [],
   "source": []
  }
 ],
 "metadata": {
  "kernelspec": {
   "display_name": "Python 3 (ipykernel)",
   "language": "python",
   "name": "python3"
  },
  "language_info": {
   "codemirror_mode": {
    "name": "ipython",
    "version": 3
   },
   "file_extension": ".py",
   "mimetype": "text/x-python",
   "name": "python",
   "nbconvert_exporter": "python",
   "pygments_lexer": "ipython3",
   "version": "3.9.13"
  }
 },
 "nbformat": 4,
 "nbformat_minor": 1
}
