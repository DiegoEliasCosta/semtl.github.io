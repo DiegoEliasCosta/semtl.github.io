{
 "cells": [
  {
   "cell_type": "markdown",
   "source": [
    "# Keyword Visualisation\n",
    "\n",
    "### Usage:\n",
    "* Save the registration sheet as a .tsv file  \n",
    "Store the file next to the juptyer file, name it ```reg_form.tsv```\n",
    "* Run this Jupyter Notebook  \n",
    "Launch command is ```jupyter notebook```\n",
    "\n",
    "### Dependencies\n",
    "\n",
    " * WordCloud: ```pip3 install --user wordcloud```\n",
    " * Pypi: ```pip3 install --user pypi```"
   ],
   "metadata": {
    "collapsed": false,
    "pycharm": {
     "name": "#%% md\n"
    }
   }
  },
  {
   "cell_type": "markdown",
   "source": [
    "\n",
    "\n",
    "### Load the TSV file\n"
   ],
   "metadata": {
    "collapsed": false,
    "pycharm": {
     "name": "#%% md\n"
    }
   }
  },
  {
   "cell_type": "code",
   "execution_count": null,
   "outputs": [],
   "source": [
    "def standardise_kw(k):\n",
    "\tk = k.replace(\"4\", \" for \")\n",
    "\tk = k.replace(\"domain specific\", \"domain-specific\")\n",
    "\tk = k.replace(\"langauge\", \"language\")\n",
    "\treturn k\n",
    "\n",
    "\n",
    "member_keywords = {}\n",
    "member_affil = {}\n",
    "with open(\"reg_form.tsv\") as f:\n",
    "\n",
    "\tfor line in f.readlines()[2:]:\n",
    "\n",
    "\t\ts = line.split(\"\\t\")\n",
    "\t\tname = s[0] + \" \" + s[1]\n",
    "\t\tprint(name)\n",
    "\n",
    "\t\tif not name.strip():\n",
    "\t\t\tcontinue\n",
    "\n",
    "\t\taffil = s[2]\n",
    "\t\tmember_affil[name] = affil\n",
    "\n",
    "\t\tkeywords = []\n",
    "\t\tfor keyword in s[6].split(\",\"):\n",
    "\t\t\tkeyword = keyword.strip().lower()\n",
    "\t\t\tif not \";\" in keyword:\n",
    "\t\t\t\tkeywords.append(standardise_kw(keyword))\n",
    "\t\t\telse:\n",
    "\t\t\t\tkws = keyword.split(\";\")\n",
    "\t\t\t\tfor kw in kws:\n",
    "\t\t\t\t\tkeywords.append(standardise_kw(kw))\n",
    "\n",
    "\t\tprint(keywords)\n",
    "\n",
    "\t\tmember_keywords[name] = keywords"
   ],
   "metadata": {
    "collapsed": false,
    "pycharm": {
     "name": "#%%\n"
    }
   }
  },
  {
   "cell_type": "markdown",
   "source": [
    "### Do wordcloud"
   ],
   "metadata": {
    "collapsed": false,
    "pycharm": {
     "name": "#%% md\n"
    }
   }
  },
  {
   "cell_type": "code",
   "execution_count": null,
   "outputs": [],
   "source": [
    "from wordcloud import WordCloud\n",
    "\n",
    "collapsed_keywords = []\n",
    "for ks in member_keywords.values():\n",
    "\tfor k in ks:\n",
    "\t\tcollapsed_keywords.append(k)\n",
    "\n",
    "print(collapsed_keywords)\n",
    "\n",
    "freqs = {}\n",
    "for ck in collapsed_keywords:\n",
    "\tfreqs[ck] = collapsed_keywords.count(ck)\n",
    "freqs = dict(sorted(freqs.items(), key=lambda item: item[1]))\n",
    "print(freqs)\n",
    "\n",
    "# Generate a word cloud image\n",
    "wordcloud = WordCloud(background_color ='white', width=2048, height=1600, relative_scaling=0.8)\\\n",
    "\n",
    "out = wordcloud.generate_from_frequencies(freqs)\n",
    "out.to_file(\"phrases.png\")\n",
    "\n",
    "out = wordcloud.generate(\" \".join(collapsed_keywords))\n",
    "out.to_file(\"words.png\")\n",
    "\n",
    "\n",
    "# Display the generated image:\n",
    "# the matplotlib way:\n",
    "# import matplotlib.pyplot as plt\n",
    "# plt.imshow(out, interpolation='bilinear')\n",
    "# plt.axis(\"off\")\n",
    "# #plt.show()\n",
    "# plt.savefig('phrases.png')"
   ],
   "metadata": {
    "collapsed": false,
    "pycharm": {
     "name": "#%%\n"
    }
   }
  },
  {
   "cell_type": "markdown",
   "source": [
    "Generate connection graph"
   ],
   "metadata": {
    "collapsed": false,
    "pycharm": {
     "name": "#%% md\n"
    }
   }
  },
  {
   "cell_type": "code",
   "execution_count": null,
   "outputs": [],
   "source": [
    "from IPython.display import Image, display\n",
    "import pydot\n",
    "\n",
    "affil_colours = {\n",
    "\t'UdeM': \"#006BB6\",\n",
    "\t'ÉTS': \"#EF3E45\",\n",
    "\t'Poly': \"#6AA84F\",\n",
    "\t'UQAM': \"#46BDC6\",\n",
    "\t'McGill': \"#F4B400\",\n",
    "\t'Concordia': \"#912338\",\n",
    "}\n",
    "\n",
    "graph = pydot.Dot(name, graph_type='digraph')\n",
    "\n",
    "mermaid_output = \"graph TD\\n\"\n",
    "\n",
    "mer_ids = {}\n",
    "for member in reversed(member_keywords):\n",
    "\tcol = affil_colours[member_affil[member]]\n",
    "\n",
    "\ttext_color = 'black'\n",
    "\tmer_color = \"#000000\"\n",
    "\tif member_affil[member] in [\"UdeM\", \"Concordia\"]:\n",
    "\t\ttext_color = 'white'\n",
    "\t\tmer_color = \"#ffffff\"\n",
    "\tn = pydot.Node(member, style=\"filled\", color='black', fillcolor=col, fontcolor=text_color)\n",
    "\t#graph.add_node(n)\n",
    "\n",
    "\tmember_id = member[:4].lower().strip()\n",
    "\tmer_ids[member] = member_id\n",
    "\n",
    "\tmermaid_output += \"    \" + member_id + \"[\" + member + \"]\\n\"\n",
    "\tmermaid_output += \"    style \" + member_id + \" fill:\" + col + \",color:\" + mer_color + \"\\n\\n\"\n",
    "\n",
    "mk_list = list(member_keywords.keys())\n",
    "\n",
    "mk_ids = {}\n",
    "for i, mk in enumerate(set(collapsed_keywords)):\n",
    "\tif not mk:\n",
    "\t\tcontinue\n",
    "\tif freqs[mk] <= 1:\n",
    "\t\tcontinue\n",
    "\n",
    "\tmermaid_output += \"    id\" + str(i) + \"(\\\"\" + mk + \"\\\")\\n\"\n",
    "\tmermaid_output += \"    style \" + \"id\" + str(i) + \" fill:\" + \"#ffffff\" + \",color:\" + \"#000000\" + \"\\n\\n\"\n",
    "\tmk_ids[mk] = \"id\" + str(i)\n",
    "\n",
    "mermaid_output += \"\\n\"\n",
    "\n",
    "for source_member in member_keywords:\n",
    "\n",
    "\tmer_src_member = mer_ids[source_member]\n",
    "\n",
    "\tfor kw in member_keywords[source_member]:\n",
    "\t\tif not kw:\n",
    "\t\t\tcontinue\n",
    "\t\tif freqs[kw] <= 1:\n",
    "\t\t\tcontinue\n",
    "\t\tmermaid_output += \"    \" + mk_ids[kw] + \" <--- \" + mer_ids[source_member] + \"\\n\"\n",
    "\n",
    "\n",
    "\tfor target_member in member_keywords:\n",
    "\n",
    "\t\tif mk_list.index(target_member) <= mk_list.index(source_member):\n",
    "\t\t\tcontinue\n",
    "\n",
    "\t\t# print(\"Source: \" + source_member)\n",
    "\t\t# print(\"Target: \" + target_member)\n",
    "\n",
    "\t\t#print(member_keywords[source_member])\n",
    "\t\tsum = 0\n",
    "\t\tshared = []\n",
    "\t\tfor smk in member_keywords[source_member]:\n",
    "\t\t\tif not smk:\n",
    "\t\t\t\tcontinue\n",
    "\t\t\tif smk in member_keywords[target_member]:\n",
    "\t\t\t\tsum += 1\n",
    "\t\t\t\tshared.append(smk)\n",
    "\t\t\t\t#print(\"Shared: \" + smk)\n",
    "\n",
    "\t\t#if sum >0:\n",
    "\t\t\t#shared_keywords = \" \".join(shared)\n",
    "\t\t\t#print(shared_keywords)\n",
    "\t\t\t#print(shared)\n",
    "\n",
    "\n",
    "\n",
    "\t\t# graph.add_edge(pydot.Edge(source_member, target_member, color='black', label=\", \".join(shared), arrowhead=\"none\", penwidth=sum))\n",
    "\n",
    "filename = \"connections\"\n",
    "# graph.write(filename + \".dot\", prog='dot')\n",
    "#\n",
    "# (graph,) = pydot.graph_from_dot_file(filename + \".dot\")\n",
    "# graph.write_png(filename + '.png')\n",
    "\n",
    "#plt = Image(filename + '.png')\n",
    "#display(plt)\n",
    "\n",
    "with open(\"mermaid_output.txt\", 'w') as f:\n",
    "\tf.write(mermaid_output)"
   ],
   "metadata": {
    "collapsed": false,
    "pycharm": {
     "name": "#%%\n"
    }
   }
  },
  {
   "cell_type": "code",
   "execution_count": null,
   "outputs": [],
   "source": [
    "The wordcloud is exported to a [file](words.png):\n",
    "![words](words.png)"
   ],
   "metadata": {
    "collapsed": false,
    "pycharm": {
     "name": "#%%\n"
    }
   }
  },
  {
   "cell_type": "code",
   "execution_count": null,
   "outputs": [],
   "source": [
    "The wordcloud is exported to a [file](words.png):\n",
    "![words](words.png)"
   ],
   "metadata": {
    "collapsed": false,
    "pycharm": {
     "name": "#%%\n"
    }
   }
  },
  {
   "cell_type": "code",
   "execution_count": null,
   "metadata": {
    "pycharm": {
     "name": "#%%\n"
    }
   },
   "outputs": [],
   "source": []
  }
 ],
 "metadata": {
  "kernelspec": {
   "display_name": "Python 3 (ipykernel)",
   "language": "python",
   "name": "python3"
  },
  "language_info": {
   "codemirror_mode": {
    "name": "ipython",
    "version": 3
   },
   "file_extension": ".py",
   "mimetype": "text/x-python",
   "name": "python",
   "nbconvert_exporter": "python",
   "pygments_lexer": "ipython3",
   "version": "3.9.13"
  }
 },
 "nbformat": 4,
 "nbformat_minor": 1
}